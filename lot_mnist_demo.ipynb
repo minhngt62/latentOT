{
 "cells": [
  {
   "cell_type": "code",
   "execution_count": 2,
   "metadata": {},
   "outputs": [],
   "source": [
    "import os\n",
    "\n",
    "import matplotlib.pyplot as plt\n",
    "import numpy as np\n",
    "import seaborn as sns\n",
    "import torch\n",
    "from torch.utils.data import DataLoader\n",
    "from torchvision import datasets, transforms\n",
    "\n",
    "from python_demo.models import mnist\n",
    "from python_demo import LOT, FC, OT"
   ]
  },
  {
   "cell_type": "markdown",
   "metadata": {},
   "source": [
    "##  Load Train and Test sample from MNIST"
   ]
  },
  {
   "cell_type": "code",
   "execution_count": 2,
   "metadata": {},
   "outputs": [],
   "source": [
    "num_samples=1000  # number of train samples and test samples\n",
    "torch.manual_seed(5)  # fix random seed\n",
    "\n",
    "data_root = os.path.expanduser(os.path.join('/tmp/public_dataset/pytorch', 'mnist-data'))\n",
    "transform = transforms.Compose([transforms.ToTensor(), transforms.Normalize((0.1307,), (0.3081,))])  # Normalization\n",
    "\n",
    "train_data = datasets.MNIST(root=data_root, train=True, download=True, transform=transform)\n",
    "train_loader = DataLoader(train_data, batch_size=num_samples, shuffle=True)\n",
    "X_train, y_train = next(iter(train_loader))\n",
    "\n",
    "test_data = datasets.MNIST(root=data_root, train=False, download=True, transform=transform)\n",
    "test_loader = DataLoader(test_data, batch_size=2*num_samples, shuffle=True)  # temporarily get more samples because of class removal\n",
    "X_test, y_test = next(iter(test_loader))"
   ]
  },
  {
   "cell_type": "markdown",
   "metadata": {},
   "source": [
    "##  Remove digits 0, 2 and 8 from test samples to create unbalanced setting"
   ]
  },
  {
   "cell_type": "code",
   "execution_count": 3,
   "metadata": {
    "pycharm": {
     "name": "#%%\n"
    }
   },
   "outputs": [
    {
     "name": "stdout",
     "output_type": "stream",
     "text": [
      "tensor([1, 3, 4, 5, 6, 7, 9])\n"
     ]
    }
   ],
   "source": [
    "remove_classes = [0, 2, 8]\n",
    "mask = torch.ones_like(y_test, dtype=torch.bool)\n",
    "for idx in remove_classes:\n",
    "    mask = torch.logical_and(mask, y_test != idx)\n",
    "\n",
    "X_test = X_test[mask][:num_samples]\n",
    "y_test = y_test[mask][:num_samples]\n",
    "\n",
    "print(y_test.unique())"
   ]
  },
  {
   "cell_type": "markdown",
   "metadata": {},
   "source": [
    "##  Load model trained on training samples"
   ]
  },
  {
   "cell_type": "code",
   "execution_count": 4,
   "metadata": {
    "pycharm": {
     "name": "#%%\n"
    }
   },
   "outputs": [
    {
     "name": "stdout",
     "output_type": "stream",
     "text": [
      "Training accuracy: 0.999\n",
      "Testing accuracy: 0.982\n"
     ]
    }
   ],
   "source": [
    "m = mnist(pretrained=True).eval()\n",
    "\n",
    "def compute_accuracy(net, X, y):\n",
    "    pred_logits = net(X)\n",
    "    _, pred_y = torch.max(pred_logits, 1)\n",
    "    acc = (pred_y == y).sum().item() / y.size(0)\n",
    "    return acc\n",
    "\n",
    "print('Training accuracy:', compute_accuracy(m, X_train, y_train))\n",
    "print('Testing accuracy:', compute_accuracy(m, X_test, y_test))"
   ]
  },
  {
   "cell_type": "markdown",
   "metadata": {
    "pycharm": {
     "name": "#%% md\n"
    }
   },
   "source": [
    "##  Perturbation: apply dropout (or random masking) to test samples"
   ]
  },
  {
   "cell_type": "code",
   "execution_count": 5,
   "metadata": {
    "pycharm": {
     "name": "#%%\n"
    }
   },
   "outputs": [
    {
     "data": {
      "image/png": "[encoded data removed]",
      "text/plain": [
       "<Figure size 432x288 with 1 Axes>"
      ]
     },
     "metadata": {
      "needs_background": "light"
     },
     "output_type": "display_data"
    }
   ],
   "source": [
    "##  Create dropout mask\n",
    "mask = np.ones_like(X_test[0])\n",
    "mask[0, :10, :10] = 0; mask[0, :10, -9:] = 0; mask[0, -9:, -9:] = 0; mask[0, 10:-9, 10:-9] = 0\n",
    "\n",
    "plt.imshow(mask[0],  cmap='gray')\n",
    "plt.show()"
   ]
  },
  {
   "cell_type": "code",
   "execution_count": 6,
   "metadata": {},
   "outputs": [
    {
     "data": {
      "text/plain": [
       "<matplotlib.image.AxesImage at 0x15114c5b0>"
      ]
     },
     "execution_count": 6,
     "metadata": {},
     "output_type": "execute_result"
    },
    {
     "data": {
      "image/png": "[encoded data removed]",
      "text/plain": [
       "<Figure size 432x288 with 1 Axes>"
      ]
     },
     "metadata": {
      "needs_background": "light"
     },
     "output_type": "display_data"
    }
   ],
   "source": [
    "##  Apply dropout mask to test images\n",
    "X_test_aug = torch.Tensor(X_test * mask)\n",
    "plt.imshow(X_test_aug[1].squeeze(),  cmap='gray')\n",
    "plt.show()"
   ]
  },
  {
   "cell_type": "code",
   "execution_count": 7,
   "metadata": {
    "pycharm": {
     "name": "#%%\n"
    }
   },
   "outputs": [
    {
     "name": "stdout",
     "output_type": "stream",
     "text": [
      "Accuracy of augmented test data: 0.693\n"
     ]
    }
   ],
   "source": [
    "## Evaluate accuracy\n",
    "print('Accuracy of augmented test data:', compute_accuracy(m, X_test_aug, y_test))"
   ]
  },
  {
   "cell_type": "markdown",
   "metadata": {},
   "source": [
    "##  Get model's logits output for each set\n",
    "MLP --> logits (10d)"
   ]
  },
  {
   "cell_type": "code",
   "execution_count": 8,
   "metadata": {},
   "outputs": [],
   "source": [
    "features_train = m(X_train).detach().numpy()\n",
    "features_test = m(X_test).detach().numpy()\n",
    "features_test_aug = m(X_test_aug).detach().numpy()"
   ]
  },
  {
   "cell_type": "markdown",
   "metadata": {},
   "source": [
    "## Applying LOT\n",
    "- Source = features_test_aug\n",
    "- Target = features_train"
   ]
  },
  {
   "cell_type": "code",
   "execution_count": 66,
   "metadata": {},
   "outputs": [
    {
     "name": "stdout",
     "output_type": "stream",
     "text": [
      "CPU times: user 7.01 s, sys: 1.33 s, total: 8.35 s\n",
      "Wall time: 1.32 s\n"
     ]
    }
   ],
   "source": [
    "%%time\n",
    "n_source_anchors = 7\n",
    "n_target_anchors = 10\n",
    "eps = 50\n",
    "\n",
    "lot = LOT(n_source_anchors= n_source_anchors, n_target_anchors= n_target_anchors, epsilon=eps, epsilon_z=eps)\n",
    "lot.fit(features_test_aug, features_train)"
   ]
  },
  {
   "cell_type": "code",
   "execution_count": 67,
   "metadata": {
    "pycharm": {
     "name": "#%%\n"
    }
   },
   "outputs": [
    {
     "name": "stdout",
     "output_type": "stream",
     "text": [
      "CPU times: user 6.73 ms, sys: 4.58 ms, total: 11.3 ms\n",
      "Wall time: 1.82 ms\n"
     ]
    }
   ],
   "source": [
    "%%time\n",
    "# estimate transport plan\n",
    "transported_features_lot = lot.transport(features_test_aug, features_train)"
   ]
  },
  {
   "cell_type": "code",
   "execution_count": 68,
   "metadata": {
    "pycharm": {
     "name": "#%%\n"
    }
   },
   "outputs": [
    {
     "name": "stdout",
     "output_type": "stream",
     "text": [
      "CPU times: user 10.9 ms, sys: 12.4 ms, total: 23.3 ms\n",
      "Wall time: 4.31 ms\n"
     ]
    }
   ],
   "source": [
    "%%time\n",
    "# more robust estimation of transport plan\n",
    "transported_features_robust_lot = lot.robust_transport(features_test_aug, features_train)"
   ]
  },
  {
   "cell_type": "code",
   "execution_count": 69,
   "metadata": {
    "pycharm": {
     "name": "#%%\n"
    }
   },
   "outputs": [
    {
     "name": "stdout",
     "output_type": "stream",
     "text": [
      "Accuracy after LOT: 0.71\n",
      "Accuracy after LOT (robust): 0.741\n",
      "L2 error of LOT: 417.4369120075038\n",
      "L2 error of LOT (robust): 396.541179209524\n"
     ]
    }
   ],
   "source": [
    "def compute_accuracy_from_logits(logits, labels):\n",
    "    _, pred_y = torch.max(torch.tensor(logits), 1)\n",
    "    return (pred_y == labels).sum().item() / labels.size(0)\n",
    "\n",
    "aLOT = compute_accuracy_from_logits(transported_features_lot, y_test)\n",
    "eLOT = np.linalg.norm(transported_features_lot - features_test)\n",
    "print('Accuracy after LOT:', aLOT)\n",
    "print('L2 error of LOT:', eLOT)\n",
    "\n",
    "aLOTr = compute_accuracy_from_logits(transported_features_robust_lot, y_test)\n",
    "eLOTr = np.linalg.norm(transported_features_robust_lot - features_test)\n",
    "print('Accuracy after LOT (robust):', aLOTr)\n",
    "print('L2 error of LOT (robust):', eLOTr)"
   ]
  },
  {
   "cell_type": "markdown",
   "metadata": {},
   "source": [
    "## Applying FC\n"
   ]
  },
  {
   "cell_type": "code",
   "execution_count": 70,
   "metadata": {
    "pycharm": {
     "name": "#%%\n"
    }
   },
   "outputs": [
    {
     "name": "stdout",
     "output_type": "stream",
     "text": [
      "CPU times: user 6.3 s, sys: 1.47 s, total: 7.77 s\n",
      "Wall time: 1.18 s\n"
     ]
    }
   ],
   "source": [
    "%%time\n",
    "\n",
    "n_anchors = 10\n",
    "fc = FC(n_anchors= n_anchors, epsilon=eps)\n",
    "fc.fit(features_test_aug, features_train)"
   ]
  },
  {
   "cell_type": "code",
   "execution_count": 71,
   "metadata": {
    "pycharm": {
     "name": "#%%\n"
    }
   },
   "outputs": [
    {
     "name": "stdout",
     "output_type": "stream",
     "text": [
      "CPU times: user 9.09 ms, sys: 7.49 ms, total: 16.6 ms\n",
      "Wall time: 3.02 ms\n"
     ]
    }
   ],
   "source": [
    "%%time\n",
    "# estimate transport plan\n",
    "transported_features_fc = fc.transport(features_test_aug, features_train)"
   ]
  },
  {
   "cell_type": "code",
   "execution_count": 72,
   "metadata": {
    "pycharm": {
     "name": "#%%\n"
    }
   },
   "outputs": [
    {
     "name": "stdout",
     "output_type": "stream",
     "text": [
      "Accuracy after FC : 0.7\n",
      "L2 error of FC: 437.23615356577955\n"
     ]
    }
   ],
   "source": [
    "aFC = compute_accuracy_from_logits(transported_features_fc, y_test)\n",
    "print('Accuracy after FC :', aFC)\n",
    "\n",
    "eFC = (np.linalg.norm(transported_features_fc - features_test))\n",
    "print('L2 error of FC:', eFC)"
   ]
  },
  {
   "cell_type": "markdown",
   "metadata": {},
   "source": [
    "## Applying OT"
   ]
  },
  {
   "cell_type": "code",
   "execution_count": 73,
   "metadata": {
    "pycharm": {
     "name": "#%%\n"
    }
   },
   "outputs": [
    {
     "name": "stdout",
     "output_type": "stream",
     "text": [
      "CPU times: user 468 ms, sys: 24 ms, total: 492 ms\n",
      "Wall time: 494 ms\n"
     ]
    }
   ],
   "source": [
    "%%time\n",
    "ot = OT()\n",
    "ot.fit(features_test_aug, features_train)"
   ]
  },
  {
   "cell_type": "code",
   "execution_count": 74,
   "metadata": {},
   "outputs": [
    {
     "name": "stdout",
     "output_type": "stream",
     "text": [
      "CPU times: user 10.4 ms, sys: 6.63 ms, total: 17 ms\n",
      "Wall time: 3.01 ms\n"
     ]
    }
   ],
   "source": [
    "%%time\n",
    "# estimate transport plan\n",
    "transported_features_ot = ot.transport(features_test_aug, features_train)"
   ]
  },
  {
   "cell_type": "code",
   "execution_count": 75,
   "metadata": {
    "pycharm": {
     "name": "#%%\n"
    }
   },
   "outputs": [
    {
     "name": "stdout",
     "output_type": "stream",
     "text": [
      "Accuracy after OT : 0.613\n",
      "L2 error of OT: 542.2029884453121\n"
     ]
    }
   ],
   "source": [
    "aOT = compute_accuracy_from_logits(transported_features_ot, y_test)\n",
    "print('Accuracy after OT :', aOT)\n",
    "\n",
    "eOT = (np.linalg.norm(transported_features_ot - features_test))\n",
    "print('L2 error of OT:', eOT)"
   ]
  },
  {
   "cell_type": "markdown",
   "metadata": {},
   "source": [
    "## Summary"
   ]
  },
  {
   "cell_type": "code",
   "execution_count": 92,
   "metadata": {
    "pycharm": {
     "name": "#%%\n"
    }
   },
   "outputs": [
    {
     "data": {
      "image/png": "[encoded data removed]",
      "text/plain": [
       "<Figure size 432x288 with 1 Axes>"
      ]
     },
     "metadata": {
      "needs_background": "light"
     },
     "output_type": "display_data"
    },
    {
     "data": {
      "image/png": "[encoded data removed]",
      "text/plain": [
       "<Figure size 432x288 with 1 Axes>"
      ]
     },
     "metadata": {
      "needs_background": "light"
     },
     "output_type": "display_data"
    }
   ],
   "source": [
    "methods = ['OT','FC','LOT','rLOT']\n",
    "accuracies = [aOT, aFC, aLOT, aLOTr]\n",
    "sns.barplot(x=methods, y=accuracies)\n",
    "plt.ylabel('Accuracy')\n",
    "plt.show()\n",
    "\n",
    "error = [eOT, eFC, eLOT, eLOTr]\n",
    "sns.barplot(x=methods, y=error)\n",
    "plt.ylabel('L2 error')\n",
    "plt.show()"
   ]
  },
  {
   "cell_type": "markdown",
   "metadata": {},
   "source": [
    "## Visualization"
   ]
  },
  {
   "cell_type": "code",
   "execution_count": 93,
   "metadata": {},
   "outputs": [
    {
     "data": {
      "text/plain": [
       "Isomap(n_neighbors=50)"
      ]
     },
     "execution_count": 93,
     "metadata": {},
     "output_type": "execute_result"
    }
   ],
   "source": [
    "# Dimensionality reduction\n",
    "# We fit an isomap to the target (train samples) and use it to project all sets in a common 2-d space\n",
    "\n",
    "from sklearn.manifold import Isomap\n",
    "\n",
    "isomap = Isomap(n_components=2, n_neighbors=50)\n",
    "isomap.fit(features_train)"
   ]
  },
  {
   "cell_type": "code",
   "execution_count": 1,
   "metadata": {
    "pycharm": {
     "name": "#%%\n"
    }
   },
   "outputs": [
    {
     "ename": "NameError",
     "evalue": "name 'y_test' is not defined",
     "output_type": "error",
     "traceback": [
      "\u001b[0;31m---------------------------------------------------------------------------\u001b[0m",
      "\u001b[0;31mNameError\u001b[0m                                 Traceback (most recent call last)",
      "\u001b[0;32m/var/folders/0q/79szzd950rz9ppcx6243_yg00000gn/T/ipykernel_49717/1480239986.py\u001b[0m in \u001b[0;36m<module>\u001b[0;34m\u001b[0m\n\u001b[1;32m      2\u001b[0m \u001b[0;34m\u001b[0m\u001b[0m\n\u001b[1;32m      3\u001b[0m \u001b[0mcmap\u001b[0m \u001b[0;34m=\u001b[0m \u001b[0mmcolors\u001b[0m\u001b[0;34m.\u001b[0m\u001b[0mListedColormap\u001b[0m\u001b[0;34m(\u001b[0m\u001b[0;34m[\u001b[0m\u001b[0;34m'tab:gray'\u001b[0m\u001b[0;34m,\u001b[0m \u001b[0;34m'tab:blue'\u001b[0m\u001b[0;34m,\u001b[0m \u001b[0;34m'tab:purple'\u001b[0m\u001b[0;34m,\u001b[0m \u001b[0;34m'tab:orange'\u001b[0m\u001b[0;34m,\u001b[0m \u001b[0;34m'tab:green'\u001b[0m\u001b[0;34m,\u001b[0m \u001b[0;34m'tab:red'\u001b[0m\u001b[0;34m,\u001b[0m \u001b[0;34m'tab:brown'\u001b[0m\u001b[0;34m,\u001b[0m \u001b[0;34m'tab:pink'\u001b[0m\u001b[0;34m,\u001b[0m \u001b[0;34m'tab:olive'\u001b[0m\u001b[0;34m,\u001b[0m \u001b[0;34m'tab:cyan'\u001b[0m\u001b[0;34m]\u001b[0m\u001b[0;34m)\u001b[0m\u001b[0;34m\u001b[0m\u001b[0;34m\u001b[0m\u001b[0m\n\u001b[0;32m----> 4\u001b[0;31m \u001b[0mc_test\u001b[0m \u001b[0;34m=\u001b[0m \u001b[0mcmap\u001b[0m\u001b[0;34m(\u001b[0m\u001b[0my_test\u001b[0m\u001b[0;34m)\u001b[0m\u001b[0;34m\u001b[0m\u001b[0;34m\u001b[0m\u001b[0m\n\u001b[0m\u001b[1;32m      5\u001b[0m \u001b[0mc_train\u001b[0m \u001b[0;34m=\u001b[0m \u001b[0mcmap\u001b[0m\u001b[0;34m(\u001b[0m\u001b[0my_train\u001b[0m\u001b[0;34m)\u001b[0m\u001b[0;34m\u001b[0m\u001b[0;34m\u001b[0m\u001b[0m\n\u001b[1;32m      6\u001b[0m \u001b[0;34m\u001b[0m\u001b[0m\n",
      "\u001b[0;31mNameError\u001b[0m: name 'y_test' is not defined"
     ]
    }
   ],
   "source": [
    "import matplotlib.colors as mcolors\n",
    "\n",
    "cmap = mcolors.ListedColormap(['tab:gray', 'tab:blue', 'tab:purple', 'tab:orange', 'tab:green', 'tab:red', 'tab:brown', 'tab:pink', 'tab:olive', 'tab:cyan'])\n",
    "c_test = cmap(y_test)\n",
    "c_train = cmap(y_train)\n",
    "\n",
    "plt.figure(figsize = (20,10))\n",
    "# todo train has different color map\n",
    "plt.subplot(2,3,1); plt.scatter(*isomap.transform(transported_features_fc).T, c=c_test); plt.title('factored coupling')\n",
    "plt.subplot(2,3,2); plt.scatter(*isomap.transform(transported_features_ot).T, c=c_test); plt.title('OT')\n",
    "plt.subplot(2,3,3); plt.scatter(*isomap.transform(transported_features_robust_lot).T, c=c_test); plt.title('LOT')\n",
    "plt.subplot(2,3,4); plt.scatter(*isomap.transform(features_test).T, c=c_test); plt.title('test ground truth')\n",
    "plt.subplot(2,3,5); plt.scatter(*isomap.transform(features_train).T, c=c_train); plt.title('train set')\n",
    "plt.subplot(2,3,6); plt.scatter(*isomap.transform(features_test_aug).T, c=c_test); plt.title('dropped out test set')\n",
    "plt.show()"
   ]
  },
  {
   "cell_type": "code",
   "execution_count": null,
   "metadata": {},
   "outputs": [],
   "source": []
  }
 ],
 "metadata": {
  "kernelspec": {
   "display_name": "Python 3",
   "language": "python",
   "name": "python3"
  },
  "language_info": {
   "codemirror_mode": {
    "name": "ipython",
    "version": 3
   },
   "file_extension": ".py",
   "mimetype": "text/x-python",
   "name": "python",
   "nbconvert_exporter": "python",
   "pygments_lexer": "ipython3",
   "version": "3.8.10"
  },
  "nteract": {
   "version": "0.25.0"
  }
 },
 "nbformat": 4,
 "nbformat_minor": 4
}
